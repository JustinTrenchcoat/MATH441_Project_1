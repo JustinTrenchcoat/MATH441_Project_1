{
 "cells": [
  {
   "cell_type": "code",
   "execution_count": 1,
   "metadata": {},
   "outputs": [],
   "source": [
    "import pandas as pd\n",
    "import cvxpy as cp\n",
    "import numpy as np"
   ]
  },
  {
   "cell_type": "code",
   "execution_count": 10,
   "metadata": {},
   "outputs": [],
   "source": [
    "# load the dataset\n",
    "df = pd.read_csv(\"aoe4_data.csv\")\n"
   ]
  },
  {
   "cell_type": "code",
   "execution_count": 11,
   "metadata": {},
   "outputs": [
    {
     "data": {
      "text/plain": [
       "Index([50, 60], dtype='int64')"
      ]
     },
     "metadata": {},
     "output_type": "display_data"
    },
    {
     "data": {
      "text/plain": [
       "Index([51, 61], dtype='int64')"
      ]
     },
     "metadata": {},
     "output_type": "display_data"
    },
    {
     "data": {
      "text/html": [
       "<div>\n",
       "<style scoped>\n",
       "    .dataframe tbody tr th:only-of-type {\n",
       "        vertical-align: middle;\n",
       "    }\n",
       "\n",
       "    .dataframe tbody tr th {\n",
       "        vertical-align: top;\n",
       "    }\n",
       "\n",
       "    .dataframe thead th {\n",
       "        text-align: right;\n",
       "    }\n",
       "</style>\n",
       "<table border=\"1\" class=\"dataframe\">\n",
       "  <thead>\n",
       "    <tr style=\"text-align: right;\">\n",
       "      <th></th>\n",
       "      <th>Names</th>\n",
       "      <th>Food</th>\n",
       "      <th>Wood</th>\n",
       "      <th>Gold</th>\n",
       "      <th>Time</th>\n",
       "      <th>Pop</th>\n",
       "      <th>HP</th>\n",
       "      <th>Armor</th>\n",
       "      <th>Attack</th>\n",
       "      <th>Spd</th>\n",
       "      <th>Rng</th>\n",
       "    </tr>\n",
       "  </thead>\n",
       "  <tbody>\n",
       "    <tr>\n",
       "      <th>2</th>\n",
       "      <td>Spearman</td>\n",
       "      <td>60.0</td>\n",
       "      <td>20.0</td>\n",
       "      <td>0.0</td>\n",
       "      <td>15.0</td>\n",
       "      <td>1.0</td>\n",
       "      <td>70.0</td>\n",
       "      <td>0</td>\n",
       "      <td>6</td>\n",
       "      <td>1.75</td>\n",
       "      <td>0.29</td>\n",
       "    </tr>\n",
       "    <tr>\n",
       "      <th>6</th>\n",
       "      <td>Landsknecht</td>\n",
       "      <td>60.0</td>\n",
       "      <td>0.0</td>\n",
       "      <td>100.0</td>\n",
       "      <td>22.0</td>\n",
       "      <td>1.0</td>\n",
       "      <td>80.0</td>\n",
       "      <td>0</td>\n",
       "      <td>17</td>\n",
       "      <td>1.25</td>\n",
       "      <td>0.29</td>\n",
       "    </tr>\n",
       "    <tr>\n",
       "      <th>9</th>\n",
       "      <td>Man-at-Arms</td>\n",
       "      <td>100.0</td>\n",
       "      <td>0.0</td>\n",
       "      <td>20.0</td>\n",
       "      <td>22.0</td>\n",
       "      <td>1.0</td>\n",
       "      <td>100.0</td>\n",
       "      <td>2</td>\n",
       "      <td>8</td>\n",
       "      <td>1.25</td>\n",
       "      <td>0.29</td>\n",
       "    </tr>\n",
       "    <tr>\n",
       "      <th>13</th>\n",
       "      <td>Palace Guard</td>\n",
       "      <td>100.0</td>\n",
       "      <td>0.0</td>\n",
       "      <td>20.0</td>\n",
       "      <td>22.0</td>\n",
       "      <td>1.0</td>\n",
       "      <td>155.0</td>\n",
       "      <td>3</td>\n",
       "      <td>12</td>\n",
       "      <td>1.25</td>\n",
       "      <td>0.29</td>\n",
       "    </tr>\n",
       "    <tr>\n",
       "      <th>16</th>\n",
       "      <td>Archer</td>\n",
       "      <td>30.0</td>\n",
       "      <td>50.0</td>\n",
       "      <td>0.0</td>\n",
       "      <td>15.0</td>\n",
       "      <td>1.0</td>\n",
       "      <td>70.0</td>\n",
       "      <td>0</td>\n",
       "      <td>5</td>\n",
       "      <td>1.5</td>\n",
       "      <td>5.00</td>\n",
       "    </tr>\n",
       "  </tbody>\n",
       "</table>\n",
       "</div>"
      ],
      "text/plain": [
       "           Names   Food  Wood   Gold  Time  Pop     HP Armor Attack   Spd  \\\n",
       "2       Spearman   60.0  20.0    0.0  15.0  1.0   70.0     0      6  1.75   \n",
       "6    Landsknecht   60.0   0.0  100.0  22.0  1.0   80.0     0     17  1.25   \n",
       "9    Man-at-Arms  100.0   0.0   20.0  22.0  1.0  100.0     2      8  1.25   \n",
       "13  Palace Guard  100.0   0.0   20.0  22.0  1.0  155.0     3     12  1.25   \n",
       "16        Archer   30.0  50.0    0.0  15.0  1.0   70.0     0      5   1.5   \n",
       "\n",
       "     Rng  \n",
       "2   0.29  \n",
       "6   0.29  \n",
       "9   0.29  \n",
       "13  0.29  \n",
       "16  5.00  "
      ]
     },
     "execution_count": 11,
     "metadata": {},
     "output_type": "execute_result"
    }
   ],
   "source": [
    "# data cleaning and pre-processing\n",
    "df.rename(columns={\"Resource Cost\": \"Food\", \"Unnamed: 4\": \"Wood\",\"Unnamed: 5\": \"Gold\",}, inplace=True)\n",
    "df.rename(columns={\"Unnamed: 15\" :\"Spd\",\"Unnamed: 16\": \"DPS\",\"Unnamed: 17\": \"Rng\"},inplace =True)\n",
    "df.drop(columns=[\"Unnamed: 1\", \"Unnamed: 2\",\"Bonus\",\"Note\",\"Unnamed: 19\",\"Unnamed: 18\",\"Unnamed: 13\",\"Unnamed: 6\",\"Move\", \"DPS\", \"HP per\\nResource\"], inplace=True)\n",
    "df.rename(columns={\" \": \"Names\"}, inplace=True)\n",
    "df = df.iloc[:107]\n",
    "df = df.dropna(subset=['Food', 'Gold', 'Wood'])\n",
    "# we also drop the row where the unit is being listed twice, as it has different attack points to different units,\n",
    "display(df.loc[df['Names']==\"(Tusk)\"].index)\n",
    "display(df.loc[df['Names']==\"(Tusk vs Building)\"].index)\n",
    "df = df.drop([50,60,51,61])\n",
    "df = df.fillna(0)\n",
    "df.head()"
   ]
  },
  {
   "cell_type": "code",
   "execution_count": 12,
   "metadata": {},
   "outputs": [
    {
     "data": {
      "text/html": [
       "<div>\n",
       "<style scoped>\n",
       "    .dataframe tbody tr th:only-of-type {\n",
       "        vertical-align: middle;\n",
       "    }\n",
       "\n",
       "    .dataframe tbody tr th {\n",
       "        vertical-align: top;\n",
       "    }\n",
       "\n",
       "    .dataframe thead th {\n",
       "        text-align: right;\n",
       "    }\n",
       "</style>\n",
       "<table border=\"1\" class=\"dataframe\">\n",
       "  <thead>\n",
       "    <tr style=\"text-align: right;\">\n",
       "      <th></th>\n",
       "      <th>Names</th>\n",
       "      <th>Gold</th>\n",
       "      <th>Time</th>\n",
       "      <th>Pop</th>\n",
       "      <th>HP</th>\n",
       "      <th>Armor</th>\n",
       "      <th>Attack</th>\n",
       "      <th>Spd</th>\n",
       "      <th>Rng</th>\n",
       "    </tr>\n",
       "  </thead>\n",
       "  <tbody>\n",
       "    <tr>\n",
       "      <th>2</th>\n",
       "      <td>Spearman</td>\n",
       "      <td>104.0</td>\n",
       "      <td>15.0</td>\n",
       "      <td>1.0</td>\n",
       "      <td>70.0</td>\n",
       "      <td>0</td>\n",
       "      <td>6</td>\n",
       "      <td>1.75</td>\n",
       "      <td>0.29</td>\n",
       "    </tr>\n",
       "    <tr>\n",
       "      <th>6</th>\n",
       "      <td>Landsknecht</td>\n",
       "      <td>178.0</td>\n",
       "      <td>22.0</td>\n",
       "      <td>1.0</td>\n",
       "      <td>80.0</td>\n",
       "      <td>0</td>\n",
       "      <td>17</td>\n",
       "      <td>1.25</td>\n",
       "      <td>0.29</td>\n",
       "    </tr>\n",
       "    <tr>\n",
       "      <th>9</th>\n",
       "      <td>Man-at-Arms</td>\n",
       "      <td>150.0</td>\n",
       "      <td>22.0</td>\n",
       "      <td>1.0</td>\n",
       "      <td>100.0</td>\n",
       "      <td>2</td>\n",
       "      <td>8</td>\n",
       "      <td>1.25</td>\n",
       "      <td>0.29</td>\n",
       "    </tr>\n",
       "    <tr>\n",
       "      <th>13</th>\n",
       "      <td>Palace Guard</td>\n",
       "      <td>150.0</td>\n",
       "      <td>22.0</td>\n",
       "      <td>1.0</td>\n",
       "      <td>155.0</td>\n",
       "      <td>3</td>\n",
       "      <td>12</td>\n",
       "      <td>1.25</td>\n",
       "      <td>0.29</td>\n",
       "    </tr>\n",
       "    <tr>\n",
       "      <th>16</th>\n",
       "      <td>Archer</td>\n",
       "      <td>104.0</td>\n",
       "      <td>15.0</td>\n",
       "      <td>1.0</td>\n",
       "      <td>70.0</td>\n",
       "      <td>0</td>\n",
       "      <td>5</td>\n",
       "      <td>1.5</td>\n",
       "      <td>5.00</td>\n",
       "    </tr>\n",
       "  </tbody>\n",
       "</table>\n",
       "</div>"
      ],
      "text/plain": [
       "           Names   Gold  Time  Pop     HP Armor Attack   Spd   Rng\n",
       "2       Spearman  104.0  15.0  1.0   70.0     0      6  1.75  0.29\n",
       "6    Landsknecht  178.0  22.0  1.0   80.0     0     17  1.25  0.29\n",
       "9    Man-at-Arms  150.0  22.0  1.0  100.0     2      8  1.25  0.29\n",
       "13  Palace Guard  150.0  22.0  1.0  155.0     3     12  1.25  0.29\n",
       "16        Archer  104.0  15.0  1.0   70.0     0      5   1.5  5.00"
      ]
     },
     "execution_count": 12,
     "metadata": {},
     "output_type": "execute_result"
    }
   ],
   "source": [
    "# wood to gold ratio is 1:1.3\n",
    "# food to gold ratio is also 1:1.3\\n\",\n",
    "# we calculate the cost in gold.\\n\",\n",
    "df.Food *= 1.3\n",
    "df.Wood *= 1.3\n",
    "df.Gold = df.Food + df.Wood + df.Gold\n",
    "df.drop(columns=[\"Food\", \"Wood\"], inplace=True)\n",
    "df.head()"
   ]
  },
  {
   "cell_type": "code",
   "execution_count": 13,
   "metadata": {},
   "outputs": [],
   "source": [
    "# Time, HealthPoint, Population Limit, Armor, Attack, Speed and Range would be our constraints\\n\",\n",
    "# Time: total time to train these unit has to be less than certain units of time\\n\",\n",
    "# HealthPoint: the total HealthPoint for the units have to be greater than certain threshold\\n\",\n",
    "# similar to health points, total Armor, Attack points, speed and range has to be greater than certain threshold\\n\",\n",
    "# population limit is the amount of units the country can host, so it has to be less than certain threshold\\n\",\n",
    "c = np.array(df['Gold'])\n",
    "A = np.array(df[['HP','Armor','Attack', \"Spd\", \"Rng\"]]).T\n",
    "T = np.array(df[\"Time\"]).T\n",
    "P = np.array(df[\"Pop\"]).T\n",
    "df[\"Armor\"] = df[\"Armor\"].astype(float)\n",
    "df[\"Attack\"] = df[\"Attack\"].astype(float)\n",
    "df[\"Spd\"] = df[\"Spd\"].astype(float)\n",
    "df[\"Rng\"] = df[\"Rng\"].astype(float)\n",
    "b = np.array([5000,20,1000,100,130]) \n",
    "# These are our requirements"
   ]
  },
  {
   "cell_type": "code",
   "execution_count": 14,
   "metadata": {},
   "outputs": [
    {
     "name": "stdout",
     "output_type": "stream",
     "text": [
      "Palace Guard 6.7\n",
      "Longbowman 12.2\n",
      "Khan 4.3\n",
      "Junk 3.6\n",
      "Lodya Demolition Ship 1.7\n"
     ]
    }
   ],
   "source": [
    "X = cp.Variable(df.shape[0])\n",
    "obj = cp.Minimize(c @ X)\n",
    "constraint_0 = [A@X>=b]\n",
    "constraint_1 = [X>=0]\n",
    "constraint_2 = [P@X <= 200]\n",
    "constraint_3 = [T@X <= 1026]\n",
    "prob = cp.Problem(obj,constraint_0+constraint_1+constraint_2+constraint_3)\n",
    "prob.solve()\n",
    "for i in range(df.shape[0]):\n",
    "    if (abs(X.value.round(1)[i])):\n",
    "        print(df.iloc[i]['Names'],abs(X.value.round(1)[i]))"
   ]
  },
  {
   "cell_type": "code",
   "execution_count": 9,
   "metadata": {},
   "outputs": [
    {
     "name": "stdout",
     "output_type": "stream",
     "text": [
      "Palace Guard 6.7\n",
      "Archer 3.3\n",
      "Longbowman 10.0\n",
      "Khan 4.2\n",
      "Junk 3.5\n",
      "Lodya Demolition Ship 1.6\n"
     ]
    }
   ],
   "source": [
    "# additionaly, we are trying to restrict the possibility that certain unit dominates the composition of the army\n",
    "constraint_4 = [X<=10]\n",
    "prob = cp.Problem(obj,constraint_0+constraint_1+constraint_2+constraint_3+constraint_4)\n",
    "prob.solve()\n",
    "for i in range(df.shape[0]):\n",
    "    if (abs(X.value.round(1)[i])):\n",
    "        print(df.iloc[i]['Names'],abs(X.value.round(1)[i]))\n",
    "# we further subdivide the units into specific groups:"
   ]
  },
  {
   "cell_type": "code",
   "execution_count": null,
   "metadata": {},
   "outputs": [
    {
     "data": {
      "text/plain": [
       "54"
      ]
     },
     "execution_count": 11,
     "metadata": {},
     "output_type": "execute_result"
    }
   ],
   "source": []
  },
  {
   "cell_type": "code",
   "execution_count": null,
   "metadata": {},
   "outputs": [],
   "source": []
  }
 ],
 "metadata": {
  "kernelspec": {
   "display_name": "base",
   "language": "python",
   "name": "python3"
  },
  "language_info": {
   "codemirror_mode": {
    "name": "ipython",
    "version": 3
   },
   "file_extension": ".py",
   "mimetype": "text/x-python",
   "name": "python",
   "nbconvert_exporter": "python",
   "pygments_lexer": "ipython3",
   "version": "3.12.8"
  }
 },
 "nbformat": 4,
 "nbformat_minor": 2
}

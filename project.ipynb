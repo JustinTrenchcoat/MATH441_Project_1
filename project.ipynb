{
 "cells": [
  {
   "cell_type": "code",
   "execution_count": 4,
   "id": "c5d3d62a-8ed8-458f-bfa0-c1e2ed740b9d",
   "metadata": {},
   "outputs": [],
   "source": [
    "import pandas as pd\n",
    "import numpy as np\n",
    "import cvxpy as cp\n",
    "import matplotlib.pyplot as plt\n"
   ]
  },
  {
   "cell_type": "code",
   "execution_count": 2,
   "id": "cb0fbc25-89be-467a-b0b9-db9bf5fa8a78",
   "metadata": {},
   "outputs": [],
   "source": [
    "df = pd.read_csv(\"aoe4_data.csv\")"
   ]
  },
  {
   "cell_type": "code",
   "execution_count": 3,
   "id": "990caf46-47db-415f-875a-1d40b9588acf",
   "metadata": {},
   "outputs": [
    {
     "data": {
      "text/plain": [
       "Index([50, 60], dtype='int64')"
      ]
     },
     "metadata": {},
     "output_type": "display_data"
    },
    {
     "data": {
      "text/plain": [
       "Index([51, 61], dtype='int64')"
      ]
     },
     "metadata": {},
     "output_type": "display_data"
    },
    {
     "data": {
      "text/html": [
       "<div>\n",
       "<style scoped>\n",
       "    .dataframe tbody tr th:only-of-type {\n",
       "        vertical-align: middle;\n",
       "    }\n",
       "\n",
       "    .dataframe tbody tr th {\n",
       "        vertical-align: top;\n",
       "    }\n",
       "\n",
       "    .dataframe thead th {\n",
       "        text-align: right;\n",
       "    }\n",
       "</style>\n",
       "<table border=\"1\" class=\"dataframe\">\n",
       "  <thead>\n",
       "    <tr style=\"text-align: right;\">\n",
       "      <th></th>\n",
       "      <th>Names</th>\n",
       "      <th>Food</th>\n",
       "      <th>Wood</th>\n",
       "      <th>Gold</th>\n",
       "      <th>Time</th>\n",
       "      <th>Pop</th>\n",
       "      <th>HP</th>\n",
       "      <th>Armor</th>\n",
       "      <th>Attack</th>\n",
       "      <th>Spd</th>\n",
       "      <th>Rng</th>\n",
       "    </tr>\n",
       "  </thead>\n",
       "  <tbody>\n",
       "    <tr>\n",
       "      <th>2</th>\n",
       "      <td>Spearman</td>\n",
       "      <td>60.0</td>\n",
       "      <td>20.0</td>\n",
       "      <td>0.0</td>\n",
       "      <td>15.0</td>\n",
       "      <td>1.0</td>\n",
       "      <td>70.0</td>\n",
       "      <td>0</td>\n",
       "      <td>6</td>\n",
       "      <td>1.75</td>\n",
       "      <td>0.29</td>\n",
       "    </tr>\n",
       "    <tr>\n",
       "      <th>6</th>\n",
       "      <td>Landsknecht</td>\n",
       "      <td>60.0</td>\n",
       "      <td>0.0</td>\n",
       "      <td>100.0</td>\n",
       "      <td>22.0</td>\n",
       "      <td>1.0</td>\n",
       "      <td>80.0</td>\n",
       "      <td>0</td>\n",
       "      <td>17</td>\n",
       "      <td>1.25</td>\n",
       "      <td>0.29</td>\n",
       "    </tr>\n",
       "    <tr>\n",
       "      <th>9</th>\n",
       "      <td>Man-at-Arms</td>\n",
       "      <td>100.0</td>\n",
       "      <td>0.0</td>\n",
       "      <td>20.0</td>\n",
       "      <td>22.0</td>\n",
       "      <td>1.0</td>\n",
       "      <td>100.0</td>\n",
       "      <td>2</td>\n",
       "      <td>8</td>\n",
       "      <td>1.25</td>\n",
       "      <td>0.29</td>\n",
       "    </tr>\n",
       "    <tr>\n",
       "      <th>13</th>\n",
       "      <td>Palace Guard</td>\n",
       "      <td>100.0</td>\n",
       "      <td>0.0</td>\n",
       "      <td>20.0</td>\n",
       "      <td>22.0</td>\n",
       "      <td>1.0</td>\n",
       "      <td>155.0</td>\n",
       "      <td>3</td>\n",
       "      <td>12</td>\n",
       "      <td>1.25</td>\n",
       "      <td>0.29</td>\n",
       "    </tr>\n",
       "    <tr>\n",
       "      <th>16</th>\n",
       "      <td>Archer</td>\n",
       "      <td>30.0</td>\n",
       "      <td>50.0</td>\n",
       "      <td>0.0</td>\n",
       "      <td>15.0</td>\n",
       "      <td>1.0</td>\n",
       "      <td>70.0</td>\n",
       "      <td>0</td>\n",
       "      <td>5</td>\n",
       "      <td>1.5</td>\n",
       "      <td>5.00</td>\n",
       "    </tr>\n",
       "  </tbody>\n",
       "</table>\n",
       "</div>"
      ],
      "text/plain": [
       "           Names   Food  Wood   Gold  Time  Pop     HP Armor Attack   Spd  \\\n",
       "2       Spearman   60.0  20.0    0.0  15.0  1.0   70.0     0      6  1.75   \n",
       "6    Landsknecht   60.0   0.0  100.0  22.0  1.0   80.0     0     17  1.25   \n",
       "9    Man-at-Arms  100.0   0.0   20.0  22.0  1.0  100.0     2      8  1.25   \n",
       "13  Palace Guard  100.0   0.0   20.0  22.0  1.0  155.0     3     12  1.25   \n",
       "16        Archer   30.0  50.0    0.0  15.0  1.0   70.0     0      5   1.5   \n",
       "\n",
       "     Rng  \n",
       "2   0.29  \n",
       "6   0.29  \n",
       "9   0.29  \n",
       "13  0.29  \n",
       "16  5.00  "
      ]
     },
     "execution_count": 3,
     "metadata": {},
     "output_type": "execute_result"
    }
   ],
   "source": [
    "df.rename(columns={\"Resource Cost\": \"Food\", \"Unnamed: 4\": \"Wood\",\"Unnamed: 5\": \"Gold\",}, inplace=True)\n",
    "df.rename(columns={\"Unnamed: 15\" :\"Spd\",\"Unnamed: 16\": \"DPS\",\"Unnamed: 17\": \"Rng\"},inplace =True)\n",
    "df.drop(columns=[\"Unnamed: 1\", \"Unnamed: 2\",\"Bonus\",\"Note\",\"Unnamed: 19\",\"Unnamed: 18\",\"Unnamed: 13\",\"Unnamed: 6\",\"Move\", \"DPS\", \"HP per\\nResource\"], inplace=True)\n",
    "df.rename(columns={\" \": \"Names\"}, inplace=True)\n",
    "df = df.iloc[:107]\n",
    "df = df.dropna(subset=['Food', 'Gold', 'Wood'])\n",
    "# we also drop the row where the unit is being listed twice, as it has different attack points to different units,\n",
    "display(df.loc[df['Names']==\"(Tusk)\"].index)\n",
    "display(df.loc[df['Names']==\"(Tusk vs Building)\"].index)\n",
    "df = df.drop([50,60,51,61])\n",
    "df = df.fillna(0)\n",
    "df.head()"
   ]
  },
  {
   "cell_type": "code",
   "execution_count": 27,
   "id": "4e6916a1-355f-4216-bfcd-b5b009da88f5",
   "metadata": {},
   "outputs": [
    {
     "data": {
      "text/html": [
       "<div>\n",
       "<style scoped>\n",
       "    .dataframe tbody tr th:only-of-type {\n",
       "        vertical-align: middle;\n",
       "    }\n",
       "\n",
       "    .dataframe tbody tr th {\n",
       "        vertical-align: top;\n",
       "    }\n",
       "\n",
       "    .dataframe thead th {\n",
       "        text-align: right;\n",
       "    }\n",
       "</style>\n",
       "<table border=\"1\" class=\"dataframe\">\n",
       "  <thead>\n",
       "    <tr style=\"text-align: right;\">\n",
       "      <th></th>\n",
       "      <th>Names</th>\n",
       "      <th>Gold</th>\n",
       "      <th>Time</th>\n",
       "      <th>Pop</th>\n",
       "      <th>HP</th>\n",
       "      <th>Armor</th>\n",
       "      <th>Attack</th>\n",
       "      <th>Spd</th>\n",
       "      <th>Rng</th>\n",
       "    </tr>\n",
       "  </thead>\n",
       "  <tbody>\n",
       "    <tr>\n",
       "      <th>2</th>\n",
       "      <td>Spearman</td>\n",
       "      <td>104.0</td>\n",
       "      <td>15.0</td>\n",
       "      <td>1.0</td>\n",
       "      <td>70.0</td>\n",
       "      <td>0</td>\n",
       "      <td>6</td>\n",
       "      <td>1.75</td>\n",
       "      <td>0.29</td>\n",
       "    </tr>\n",
       "    <tr>\n",
       "      <th>6</th>\n",
       "      <td>Landsknecht</td>\n",
       "      <td>178.0</td>\n",
       "      <td>22.0</td>\n",
       "      <td>1.0</td>\n",
       "      <td>80.0</td>\n",
       "      <td>0</td>\n",
       "      <td>17</td>\n",
       "      <td>1.25</td>\n",
       "      <td>0.29</td>\n",
       "    </tr>\n",
       "    <tr>\n",
       "      <th>9</th>\n",
       "      <td>Man-at-Arms</td>\n",
       "      <td>150.0</td>\n",
       "      <td>22.0</td>\n",
       "      <td>1.0</td>\n",
       "      <td>100.0</td>\n",
       "      <td>2</td>\n",
       "      <td>8</td>\n",
       "      <td>1.25</td>\n",
       "      <td>0.29</td>\n",
       "    </tr>\n",
       "    <tr>\n",
       "      <th>13</th>\n",
       "      <td>Palace Guard</td>\n",
       "      <td>150.0</td>\n",
       "      <td>22.0</td>\n",
       "      <td>1.0</td>\n",
       "      <td>155.0</td>\n",
       "      <td>3</td>\n",
       "      <td>12</td>\n",
       "      <td>1.25</td>\n",
       "      <td>0.29</td>\n",
       "    </tr>\n",
       "    <tr>\n",
       "      <th>16</th>\n",
       "      <td>Archer</td>\n",
       "      <td>104.0</td>\n",
       "      <td>15.0</td>\n",
       "      <td>1.0</td>\n",
       "      <td>70.0</td>\n",
       "      <td>0</td>\n",
       "      <td>5</td>\n",
       "      <td>1.5</td>\n",
       "      <td>5.00</td>\n",
       "    </tr>\n",
       "  </tbody>\n",
       "</table>\n",
       "</div>"
      ],
      "text/plain": [
       "           Names   Gold  Time  Pop     HP Armor Attack   Spd   Rng\n",
       "2       Spearman  104.0  15.0  1.0   70.0     0      6  1.75  0.29\n",
       "6    Landsknecht  178.0  22.0  1.0   80.0     0     17  1.25  0.29\n",
       "9    Man-at-Arms  150.0  22.0  1.0  100.0     2      8  1.25  0.29\n",
       "13  Palace Guard  150.0  22.0  1.0  155.0     3     12  1.25  0.29\n",
       "16        Archer  104.0  15.0  1.0   70.0     0      5   1.5  5.00"
      ]
     },
     "execution_count": 27,
     "metadata": {},
     "output_type": "execute_result"
    }
   ],
   "source": [
    "# 100 wood is 130 gold\n",
    "# 100 food is 130 gold\n",
    "df.Food *= 1.3\n",
    "df.Wood *= 1.3\n",
    "df.Gold = df.Food + df.Wood + df.Gold\n",
    "df.drop(columns=[\"Food\", \"Wood\"], inplace=True)\n",
    "df.head()"
   ]
  },
  {
   "cell_type": "code",
   "execution_count": 6,
   "id": "28bed8b6",
   "metadata": {},
   "outputs": [],
   "source": [
    "# Time, HealthPoint, Population Limit, Armor, Attack, Speed and Range would be our constraints\\n\",\n",
    "# Time: total time to train these unit has to be less than certain units of time\\n\",\n",
    "# HealthPoint: the total HealthPoint for the units have to be greater than certain threshold\\n\",\n",
    "# similar to health points, total Armor, Attack points, speed and range has to be greater than certain threshold\\n\",\n",
    "# population limit is the amount of units the country can host, so it has to be less than certain threshold\\n\",\n",
    "c = np.array(df['Gold'])\n",
    "A = np.array(df[['HP','Armor','Attack', \"Spd\", \"Rng\"]]).T\n",
    "T = np.array(df[\"Time\"]).T\n",
    "P = np.array(df[\"Pop\"]).T\n",
    "df[\"Armor\"] = df[\"Armor\"].astype(float)\n",
    "df[\"Attack\"] = df[\"Attack\"].astype(float)\n",
    "df[\"Spd\"] = df[\"Spd\"].astype(float)\n",
    "df[\"Rng\"] = df[\"Rng\"].astype(float)\n",
    "b = np.array([5000,20,1000,100,130]) \n",
    "# These are our requirements"
   ]
  },
  {
   "cell_type": "code",
   "execution_count": 7,
   "id": "89e02936",
   "metadata": {},
   "outputs": [
    {
     "data": {
      "text/plain": [
       "np.float64(133.33333333333334)"
      ]
     },
     "execution_count": 7,
     "metadata": {},
     "output_type": "execute_result"
    }
   ],
   "source": [
    "X = cp.Variable(df.shape[0])\n",
    "\n",
    "constraints = [\n",
    "    A @ X >= b, \n",
    "    X >= 0,  \n",
    "    P @ X <= 200,\n",
    "    T @ X <= 1536  \n",
    "]\n",
    "\n",
    "for i in range(df.shape[0]):\n",
    "    constraints.append(X[i] <= 0.35 * cp.sum(X))  # No single unit type can exceed 50% of the total population\n",
    "\n",
    "elite_units = cp.Variable(df.shape[0], boolean=True)\n",
    "constraints.append(cp.sum(elite_units) >= 0.1 * cp.sum(X))\n",
    "for i in range(df.shape[0]):\n",
    "    constraints.append(elite_units[i] * 600 <= c[i])  # Only count units costing >600 as elite\n",
    "\n",
    "obj = cp.Minimize(c @ X)\n",
    "prob = cp.Problem(obj, constraints)\n",
    "prob.solve()\n"
   ]
  },
  {
   "cell_type": "code",
   "execution_count": 34,
   "id": "ee297f73-8855-43da-bdd7-ae2c606a1106",
   "metadata": {},
   "outputs": [
    {
     "name": "stdout",
     "output_type": "stream",
     "text": [
      "The Algorithm recommends this composition of Army for your Victory!\n",
      "\n",
      "Palace Guard : 6.7 Units\n",
      "Archer : 17.5 Units\n",
      "Scout : 14.5 Units\n",
      "Khan : 3.6 Units\n",
      "Horse Archer : 3.7 Units\n",
      "Ram : 4.1 Units\n"
     ]
    }
   ],
   "source": [
    "print(\"The Algorithm recommends this composition of Army for your Victory!\\n\")\n",
    "for i in range(df.shape[0]):\n",
    "    unit_name = df.iloc[i, 0] \n",
    "    if X.value[i] > 0:\n",
    "        print(unit_name, \":\",abs(X.value.round(1)[i]), \"Units\")\n",
    "    if elite_units.value[i] > 0 and X.value[i] > 0:\n",
    "        print(unit_name, \"is the Elite Unit\")"
   ]
  },
  {
   "cell_type": "code",
   "execution_count": 36,
   "id": "32c4c509-88e6-4dc7-b394-f90b2e1e163a",
   "metadata": {},
   "outputs": [
    {
     "data": {
      "image/png": "[encoded data removed]",
      "text/plain": [
       "<Figure size 1200x1200 with 2 Axes>"
      ]
     },
     "metadata": {},
     "output_type": "display_data"
    }
   ],
   "source": [
    "# Ensure X.value is available after solving the optimization problem\n",
    "produced_units = X.value > 0\n",
    "\n",
    "# Extract unit names\n",
    "unit_names = df.loc[produced_units, df.columns[0]]  # Assuming first column contains unit names\n",
    "\n",
    "# Select attributes and their values\n",
    "attributes = ['HP', 'Armor', 'Attack','Spd', \"Rng\"]\n",
    "attr_values = df.loc[produced_units, attributes].values.T  # Transpose for stacking\n",
    "\n",
    "# Extract unit counts\n",
    "unit_counts = X.value[produced_units]\n",
    "\n",
    "# Create a figure with two subplots\n",
    "fig, axes = plt.subplots(2, 1, figsize=(12, 12))\n",
    "\n",
    "# Stacked Attribute Distribution (First Plot)\n",
    "bottom = np.zeros(len(unit_names))\n",
    "for attr, values in zip(attributes, attr_values):\n",
    "    axes[0].bar(unit_names, values, label=attr, bottom=bottom)\n",
    "    bottom += values  # Update bottom for next stack\n",
    "\n",
    "axes[0].set_xlabel(\"Unit Type\")\n",
    "axes[0].set_ylabel(\"Attribute Value\")\n",
    "axes[0].set_title(\"Stacked Attribute Distribution\")\n",
    "axes[0].legend()\n",
    "axes[0].tick_params(axis='x', rotation=45)\n",
    "\n",
    "# Optimal Unit Production (Second Plot)\n",
    "axes[1].bar(unit_names, unit_counts, color='royalblue')\n",
    "axes[1].set_xlabel(\"Unit Type\")\n",
    "axes[1].set_ylabel(\"Number of Units\")\n",
    "axes[1].set_title(\"Optimal Unit Production\")\n",
    "axes[1].tick_params(axis='x', rotation=45)\n",
    "\n",
    "# Adjust layout and show the figure\n",
    "plt.tight_layout()\n",
    "plt.show()\n"
   ]
  },
  {
   "cell_type": "code",
   "execution_count": null,
   "id": "63a05a61-4be7-4ef2-9676-23a4368cd319",
   "metadata": {},
   "outputs": [],
   "source": []
  }
 ],
 "metadata": {
  "kernelspec": {
   "display_name": "base",
   "language": "python",
   "name": "python3"
  },
  "language_info": {
   "codemirror_mode": {
    "name": "ipython",
    "version": 3
   },
   "file_extension": ".py",
   "mimetype": "text/x-python",
   "name": "python",
   "nbconvert_exporter": "python",
   "pygments_lexer": "ipython3",
   "version": "3.12.8"
  }
 },
 "nbformat": 4,
 "nbformat_minor": 5
}

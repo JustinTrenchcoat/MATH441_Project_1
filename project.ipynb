{
 "cells": [
  {
   "cell_type": "code",
<<<<<<< Updated upstream
   "execution_count": 20,
=======
   "execution_count": 78,
>>>>>>> Stashed changes
   "id": "c5d3d62a-8ed8-458f-bfa0-c1e2ed740b9d",
   "metadata": {},
   "outputs": [],
   "source": [
    "import pandas as pd"
   ]
  },
  {
   "cell_type": "code",
<<<<<<< Updated upstream
   "execution_count": 21,
=======
   "execution_count": 92,
>>>>>>> Stashed changes
   "id": "cb0fbc25-89be-467a-b0b9-db9bf5fa8a78",
   "metadata": {},
   "outputs": [],
   "source": [
<<<<<<< Updated upstream
=======
    "# load the dataset\n",
>>>>>>> Stashed changes
    "df = pd.read_csv(\"aoe4_data.csv\")"
   ]
  },
  {
   "cell_type": "code",
<<<<<<< Updated upstream
   "execution_count": 22,
=======
   "execution_count": 93,
>>>>>>> Stashed changes
   "id": "990caf46-47db-415f-875a-1d40b9588acf",
   "metadata": {},
   "outputs": [
    {
     "data": {
      "text/plain": [
       "Index([50, 60], dtype='int64')"
      ]
     },
     "metadata": {},
     "output_type": "display_data"
    },
    {
     "data": {
      "text/plain": [
       "Index([51, 61], dtype='int64')"
      ]
     },
     "metadata": {},
     "output_type": "display_data"
    },
    {
     "data": {
      "text/html": [
       "<div>\n",
       "<style scoped>\n",
       "    .dataframe tbody tr th:only-of-type {\n",
       "        vertical-align: middle;\n",
       "    }\n",
       "\n",
       "    .dataframe tbody tr th {\n",
       "        vertical-align: top;\n",
       "    }\n",
       "\n",
       "    .dataframe thead th {\n",
       "        text-align: right;\n",
       "    }\n",
       "</style>\n",
       "<table border=\"1\" class=\"dataframe\">\n",
       "  <thead>\n",
       "    <tr style=\"text-align: right;\">\n",
       "      <th></th>\n",
       "      <th>Names</th>\n",
       "      <th>Food</th>\n",
       "      <th>Wood</th>\n",
       "      <th>Gold</th>\n",
       "      <th>Time</th>\n",
       "      <th>Pop</th>\n",
       "      <th>HP</th>\n",
       "      <th>Armor</th>\n",
       "      <th>Attack</th>\n",
       "      <th>Spd</th>\n",
       "      <th>Rng</th>\n",
       "    </tr>\n",
       "  </thead>\n",
       "  <tbody>\n",
       "    <tr>\n",
       "      <th>2</th>\n",
       "      <td>Spearman</td>\n",
       "      <td>60.0</td>\n",
       "      <td>20.0</td>\n",
       "      <td>0.0</td>\n",
       "      <td>15.0</td>\n",
       "      <td>1.0</td>\n",
       "      <td>70.0</td>\n",
       "      <td>0</td>\n",
       "      <td>6</td>\n",
       "      <td>1.75</td>\n",
       "      <td>0.29</td>\n",
       "    </tr>\n",
       "    <tr>\n",
       "      <th>6</th>\n",
       "      <td>Landsknecht</td>\n",
       "      <td>60.0</td>\n",
       "      <td>0.0</td>\n",
       "      <td>100.0</td>\n",
       "      <td>22.0</td>\n",
       "      <td>1.0</td>\n",
       "      <td>80.0</td>\n",
       "      <td>0</td>\n",
       "      <td>17</td>\n",
       "      <td>1.25</td>\n",
       "      <td>0.29</td>\n",
       "    </tr>\n",
       "    <tr>\n",
       "      <th>9</th>\n",
       "      <td>Man-at-Arms</td>\n",
       "      <td>100.0</td>\n",
       "      <td>0.0</td>\n",
       "      <td>20.0</td>\n",
       "      <td>22.0</td>\n",
       "      <td>1.0</td>\n",
       "      <td>100.0</td>\n",
       "      <td>2</td>\n",
       "      <td>8</td>\n",
       "      <td>1.25</td>\n",
       "      <td>0.29</td>\n",
       "    </tr>\n",
       "    <tr>\n",
       "      <th>13</th>\n",
       "      <td>Palace Guard</td>\n",
       "      <td>100.0</td>\n",
       "      <td>0.0</td>\n",
       "      <td>20.0</td>\n",
       "      <td>22.0</td>\n",
       "      <td>1.0</td>\n",
       "      <td>155.0</td>\n",
       "      <td>3</td>\n",
       "      <td>12</td>\n",
       "      <td>1.25</td>\n",
       "      <td>0.29</td>\n",
       "    </tr>\n",
       "    <tr>\n",
       "      <th>16</th>\n",
       "      <td>Archer</td>\n",
       "      <td>30.0</td>\n",
       "      <td>50.0</td>\n",
       "      <td>0.0</td>\n",
       "      <td>15.0</td>\n",
       "      <td>1.0</td>\n",
       "      <td>70.0</td>\n",
       "      <td>0</td>\n",
       "      <td>5</td>\n",
       "      <td>1.5</td>\n",
       "      <td>5.00</td>\n",
       "    </tr>\n",
       "  </tbody>\n",
       "</table>\n",
       "</div>"
      ],
      "text/plain": [
       "           Names   Food  Wood   Gold  Time  Pop     HP Armor Attack   Spd  \\\n",
       "2       Spearman   60.0  20.0    0.0  15.0  1.0   70.0     0      6  1.75   \n",
       "6    Landsknecht   60.0   0.0  100.0  22.0  1.0   80.0     0     17  1.25   \n",
       "9    Man-at-Arms  100.0   0.0   20.0  22.0  1.0  100.0     2      8  1.25   \n",
       "13  Palace Guard  100.0   0.0   20.0  22.0  1.0  155.0     3     12  1.25   \n",
       "16        Archer   30.0  50.0    0.0  15.0  1.0   70.0     0      5   1.5   \n",
       "\n",
       "     Rng  \n",
       "2   0.29  \n",
       "6   0.29  \n",
       "9   0.29  \n",
       "13  0.29  \n",
       "16  5.00  "
      ]
     },
     "execution_count": 93,
     "metadata": {},
     "output_type": "execute_result"
    }
   ],
   "source": [
    "\n",
    "df.rename(columns={\"Resource Cost\": \"Food\", \"Unnamed: 4\": \"Wood\",\"Unnamed: 5\": \"Gold\",}, inplace=True)\n",
    "df.rename(columns={\"Unnamed: 15\" :\"Spd\",\"Unnamed: 16\": \"DPS\",\"Unnamed: 17\": \"Rng\"},inplace =True)\n",
<<<<<<< Updated upstream
    "df.drop(columns=[\"Unnamed: 1\", \"Unnamed: 2\",\"Bonus\",\"Note\",\"Unnamed: 19\",\"Unnamed: 18\",\"Unnamed: 13\",\"Unnamed: 6\",\"Move\",\"Time\"], inplace=True)\n",
    "df = df.iloc[:124]\n",
    "df = df.dropna(subset=['Food', 'Gold', 'Wood'])"
=======
    "df.drop(columns=[\"Unnamed: 1\", \"Unnamed: 2\",\"Bonus\",\"Note\",\"Unnamed: 19\",\"Unnamed: 18\",\"Unnamed: 13\",\"Unnamed: 6\",\"Move\", \"DPS\", \"HP per\\nResource\"], inplace=True)\n",
    "df.rename(columns={\" \": \"Names\"}, inplace=True)\n",
    "df = df.iloc[:108]\n",
    "df = df.dropna(subset=['Food', 'Gold', 'Wood'])\n",
    "# we also drop the row where the unit is being listed twice, as it has different attack points to different units\n",
    "display(df.loc[df['Names']==\"(Tusk)\"].index)\n",
    "display(df.loc[df['Names']==\"(Tusk vs Building)\"].index)\n",
    "df = df.drop([50,60,51,61])\n",
    "df = df.fillna(0)\n",
    "df.head()\n"
>>>>>>> Stashed changes
   ]
  },
  {
   "cell_type": "code",
<<<<<<< Updated upstream
   "execution_count": 23,
   "id": "386a6d5a-3185-43fd-a58e-25c35bfa9aed",
=======
   "execution_count": 94,
   "id": "4e6916a1-355f-4216-bfcd-b5b009da88f5",
>>>>>>> Stashed changes
   "metadata": {},
   "outputs": [
    {
     "data": {
      "text/html": [
       "<div>\n",
       "<style scoped>\n",
       "    .dataframe tbody tr th:only-of-type {\n",
       "        vertical-align: middle;\n",
       "    }\n",
       "\n",
       "    .dataframe tbody tr th {\n",
       "        vertical-align: top;\n",
       "    }\n",
       "\n",
       "    .dataframe thead th {\n",
       "        text-align: right;\n",
       "    }\n",
       "</style>\n",
       "<table border=\"1\" class=\"dataframe\">\n",
       "  <thead>\n",
       "    <tr style=\"text-align: right;\">\n",
       "      <th></th>\n",
<<<<<<< Updated upstream
       "      <th></th>\n",
       "      <th>Food</th>\n",
       "      <th>Wood</th>\n",
=======
       "      <th>Names</th>\n",
>>>>>>> Stashed changes
       "      <th>Gold</th>\n",
       "      <th>Pop</th>\n",
       "      <th>HP</th>\n",
       "      <th>HP per\\nResource</th>\n",
       "      <th>Armor</th>\n",
       "      <th>Attack</th>\n",
       "      <th>Spd</th>\n",
       "      <th>DPS</th>\n",
       "      <th>Rng</th>\n",
       "    </tr>\n",
       "  </thead>\n",
       "  <tbody>\n",
       "    <tr>\n",
       "      <th>2</th>\n",
       "      <td>Spearman</td>\n",
       "      <td>60.0</td>\n",
       "      <td>20.0</td>\n",
       "      <td>0.0</td>\n",
       "      <td>1.0</td>\n",
       "      <td>70.0</td>\n",
       "      <td>0.88</td>\n",
       "      <td>0</td>\n",
       "      <td>6</td>\n",
       "      <td>1.75</td>\n",
       "      <td>3.43</td>\n",
       "      <td>0.29</td>\n",
       "    </tr>\n",
       "    <tr>\n",
       "      <th>6</th>\n",
       "      <td>Landsknecht</td>\n",
<<<<<<< Updated upstream
       "      <td>60.0</td>\n",
       "      <td>0.0</td>\n",
       "      <td>100.0</td>\n",
       "      <td>1.0</td>\n",
       "      <td>80.0</td>\n",
       "      <td>0.50</td>\n",
       "      <td>0</td>\n",
       "      <td>17</td>\n",
       "      <td>1.25</td>\n",
       "      <td>13.60</td>\n",
=======
       "      <td>178.0</td>\n",
       "      <td>22.0</td>\n",
       "      <td>1.0</td>\n",
       "      <td>80.0</td>\n",
       "      <td>0</td>\n",
       "      <td>17</td>\n",
       "      <td>1.25</td>\n",
>>>>>>> Stashed changes
       "      <td>0.29</td>\n",
       "    </tr>\n",
       "    <tr>\n",
       "      <th>9</th>\n",
       "      <td>Man-at-Arms</td>\n",
<<<<<<< Updated upstream
       "      <td>100.0</td>\n",
       "      <td>0.0</td>\n",
       "      <td>20.0</td>\n",
       "      <td>1.0</td>\n",
       "      <td>100.0</td>\n",
       "      <td>0.83</td>\n",
       "      <td>2</td>\n",
       "      <td>8</td>\n",
       "      <td>1.25</td>\n",
       "      <td>6.40</td>\n",
=======
       "      <td>150.0</td>\n",
       "      <td>22.0</td>\n",
       "      <td>1.0</td>\n",
       "      <td>100.0</td>\n",
       "      <td>2</td>\n",
       "      <td>8</td>\n",
       "      <td>1.25</td>\n",
>>>>>>> Stashed changes
       "      <td>0.29</td>\n",
       "    </tr>\n",
       "    <tr>\n",
       "      <th>13</th>\n",
       "      <td>Palace Guard</td>\n",
<<<<<<< Updated upstream
       "      <td>100.0</td>\n",
       "      <td>0.0</td>\n",
       "      <td>20.0</td>\n",
       "      <td>1.0</td>\n",
       "      <td>155.0</td>\n",
       "      <td>1.29</td>\n",
       "      <td>3</td>\n",
       "      <td>12</td>\n",
       "      <td>1.25</td>\n",
       "      <td>9.60</td>\n",
=======
       "      <td>150.0</td>\n",
       "      <td>22.0</td>\n",
       "      <td>1.0</td>\n",
       "      <td>155.0</td>\n",
       "      <td>3</td>\n",
       "      <td>12</td>\n",
       "      <td>1.25</td>\n",
>>>>>>> Stashed changes
       "      <td>0.29</td>\n",
       "    </tr>\n",
       "    <tr>\n",
       "      <th>16</th>\n",
       "      <td>Archer</td>\n",
<<<<<<< Updated upstream
       "      <td>30.0</td>\n",
       "      <td>50.0</td>\n",
       "      <td>0.0</td>\n",
       "      <td>1.0</td>\n",
       "      <td>70.0</td>\n",
       "      <td>0.88</td>\n",
       "      <td>0</td>\n",
       "      <td>5</td>\n",
       "      <td>1.5</td>\n",
       "      <td>3.33</td>\n",
       "      <td>5.00</td>\n",
       "    </tr>\n",
       "    <tr>\n",
       "      <th>...</th>\n",
       "      <td>...</td>\n",
       "      <td>...</td>\n",
       "      <td>...</td>\n",
       "      <td>...</td>\n",
       "      <td>...</td>\n",
       "      <td>...</td>\n",
       "      <td>...</td>\n",
       "      <td>...</td>\n",
       "      <td>...</td>\n",
       "      <td>...</td>\n",
       "      <td>...</td>\n",
       "      <td>...</td>\n",
       "    </tr>\n",
       "    <tr>\n",
       "      <th>119</th>\n",
       "      <td>Fishing Boat (Delhi)</td>\n",
       "      <td>0.0</td>\n",
       "      <td>75.0</td>\n",
       "      <td>0.0</td>\n",
       "      <td>1.0</td>\n",
       "      <td>125.0</td>\n",
       "      <td>1.67</td>\n",
       "      <td>0</td>\n",
       "      <td>7</td>\n",
       "      <td>1.75</td>\n",
       "      <td>4.00</td>\n",
       "      <td>4.00</td>\n",
       "    </tr>\n",
       "    <tr>\n",
       "      <th>120</th>\n",
       "      <td>Lodya Fishing Boat</td>\n",
       "      <td>0.0</td>\n",
       "      <td>60.0</td>\n",
       "      <td>0.0</td>\n",
       "      <td>1.0</td>\n",
       "      <td>125.0</td>\n",
       "      <td>2.08</td>\n",
       "      <td>0</td>\n",
       "      <td>NaN</td>\n",
       "      <td>NaN</td>\n",
       "      <td>NaN</td>\n",
       "      <td>NaN</td>\n",
       "    </tr>\n",
       "    <tr>\n",
       "      <th>121</th>\n",
       "      <td>Transport Ship</td>\n",
       "      <td>0.0</td>\n",
       "      <td>100.0</td>\n",
       "      <td>0.0</td>\n",
       "      <td>2.0</td>\n",
       "      <td>600.0</td>\n",
       "      <td>6.00</td>\n",
       "      <td>0</td>\n",
       "      <td>NaN</td>\n",
       "      <td>NaN</td>\n",
       "      <td>NaN</td>\n",
       "      <td>NaN</td>\n",
       "    </tr>\n",
       "    <tr>\n",
       "      <th>122</th>\n",
       "      <td>Lodya Transport Ship</td>\n",
       "      <td>0.0</td>\n",
       "      <td>100.0</td>\n",
       "      <td>0.0</td>\n",
       "      <td>2.0</td>\n",
       "      <td>600.0</td>\n",
       "      <td>6.00</td>\n",
       "      <td>0</td>\n",
       "      <td>NaN</td>\n",
       "      <td>NaN</td>\n",
       "      <td>NaN</td>\n",
       "      <td>NaN</td>\n",
       "    </tr>\n",
       "    <tr>\n",
       "      <th>123</th>\n",
       "      <td>Trade Ship</td>\n",
       "      <td>0.0</td>\n",
       "      <td>300.0</td>\n",
       "      <td>100.0</td>\n",
       "      <td>2.0</td>\n",
       "      <td>300.0</td>\n",
       "      <td>0.75</td>\n",
       "      <td>0</td>\n",
       "      <td>NaN</td>\n",
       "      <td>NaN</td>\n",
       "      <td>NaN</td>\n",
       "      <td>NaN</td>\n",
       "    </tr>\n",
=======
       "      <td>104.0</td>\n",
       "      <td>15.0</td>\n",
       "      <td>1.0</td>\n",
       "      <td>70.0</td>\n",
       "      <td>0</td>\n",
       "      <td>5</td>\n",
       "      <td>1.5</td>\n",
       "      <td>5.00</td>\n",
       "    </tr>\n",
>>>>>>> Stashed changes
       "  </tbody>\n",
       "</table>\n",
       "<p>71 rows × 12 columns</p>\n",
       "</div>"
      ],
      "text/plain": [
<<<<<<< Updated upstream
       "                            Food   Wood   Gold  Pop     HP HP per\\nResource  \\\n",
       "2                Spearman   60.0   20.0    0.0  1.0   70.0             0.88   \n",
       "6             Landsknecht   60.0    0.0  100.0  1.0   80.0             0.50   \n",
       "9             Man-at-Arms  100.0    0.0   20.0  1.0  100.0             0.83   \n",
       "13           Palace Guard  100.0    0.0   20.0  1.0  155.0             1.29   \n",
       "16                 Archer   30.0   50.0    0.0  1.0   70.0             0.88   \n",
       "..                    ...    ...    ...    ...  ...    ...              ...   \n",
       "119  Fishing Boat (Delhi)    0.0   75.0    0.0  1.0  125.0             1.67   \n",
       "120    Lodya Fishing Boat    0.0   60.0    0.0  1.0  125.0             2.08   \n",
       "121        Transport Ship    0.0  100.0    0.0  2.0  600.0             6.00   \n",
       "122  Lodya Transport Ship    0.0  100.0    0.0  2.0  600.0             6.00   \n",
       "123            Trade Ship    0.0  300.0  100.0  2.0  300.0             0.75   \n",
       "\n",
       "    Armor Attack   Spd    DPS   Rng  \n",
       "2       0      6  1.75   3.43  0.29  \n",
       "6       0     17  1.25  13.60  0.29  \n",
       "9       2      8  1.25   6.40  0.29  \n",
       "13      3     12  1.25   9.60  0.29  \n",
       "16      0      5   1.5   3.33  5.00  \n",
       "..    ...    ...   ...    ...   ...  \n",
       "119     0      7  1.75   4.00  4.00  \n",
       "120     0    NaN   NaN    NaN   NaN  \n",
       "121     0    NaN   NaN    NaN   NaN  \n",
       "122     0    NaN   NaN    NaN   NaN  \n",
       "123     0    NaN   NaN    NaN   NaN  \n",
       "\n",
       "[71 rows x 12 columns]"
      ]
     },
     "execution_count": 23,
=======
       "           Names   Gold  Time  Pop     HP Armor Attack   Spd   Rng\n",
       "2       Spearman  104.0  15.0  1.0   70.0     0      6  1.75  0.29\n",
       "6    Landsknecht  178.0  22.0  1.0   80.0     0     17  1.25  0.29\n",
       "9    Man-at-Arms  150.0  22.0  1.0  100.0     2      8  1.25  0.29\n",
       "13  Palace Guard  150.0  22.0  1.0  155.0     3     12  1.25  0.29\n",
       "16        Archer  104.0  15.0  1.0   70.0     0      5   1.5  5.00"
      ]
     },
     "execution_count": 94,
>>>>>>> Stashed changes
     "metadata": {},
     "output_type": "execute_result"
    }
   ],
   "source": [
<<<<<<< Updated upstream
    "df"
=======
    "# wood to gold ratio is 1:1.3\n",
    "# food to gold ratio is also 1:1.3\n",
    "# we calculate the cost in gold.\n",
    "df.Food *= 1.3\n",
    "df.Wood *= 1.3\n",
    "df.Gold = df.Food + df.Wood + df.Gold\n",
    "df.drop(columns=[\"Food\", \"Wood\"], inplace=True)\n",
    "df.head()"
   ]
  },
  {
   "cell_type": "code",
   "execution_count": 95,
   "id": "28bed8b6",
   "metadata": {},
   "outputs": [],
   "source": [
    "# Time, HealthPoint, Population Limit, Armor, Attack, Speed and Range would be our constraints\n",
    "# Time: total time to train these unit has to be less than certain units of time\n",
    "# HealthPoint: the total HealthPoint for the units have to be greater than certain threshold\n",
    "# similar to health points, total Armor, Attack points, speed and range has to be greater than certain threshold\n",
    "# population limit is the amount of units the country can host, so it has to be less than certain threshold\n",
    "c = np.array(df['Gold'])\n",
    "A = np.array(df[['HP','Armor','Attack', \"Spd\", \"Rng\"]]).T\n",
    "T = np.array(df[\"Time\"]).T\n",
    "P = np.array(df[\"Pop\"]).T\n",
    "df[\"Armor\"] = df[\"Armor\"].astype(float)\n",
    "df[\"Attack\"] = df[\"Attack\"].astype(float)\n",
    "df[\"Spd\"] = df[\"Spd\"].astype(float)\n",
    "df[\"Rng\"] = df[\"Rng\"].astype(float)\n",
    "b = np.array([5000,20,1000,100,130]) # These are our requirements"
   ]
  },
  {
   "cell_type": "code",
   "execution_count": 96,
   "id": "89e02936",
   "metadata": {},
   "outputs": [
    {
     "data": {
      "text/plain": [
       "np.float64(3784.5817812512955)"
      ]
     },
     "execution_count": 96,
     "metadata": {},
     "output_type": "execute_result"
    }
   ],
   "source": [
    "X = cp.Variable(df.shape[0])\n",
    "obj = cp.Minimize(c @ X)\n",
    "constraint_0 = [A@X>=b]\n",
    "constraint_1 = [X>=0]\n",
    "constraint_2 = [P@X <= 200]\n",
    "constraint_3 = [T@X <= 1026]\n",
    "prob = cp.Problem(obj,constraint_0+constraint_1+constraint_2+constraint_3)\n",
    "prob.solve()"
   ]
  },
  {
   "cell_type": "code",
   "execution_count": 97,
   "id": "da76a8e7",
   "metadata": {},
   "outputs": [
    {
     "name": "stdout",
     "output_type": "stream",
     "text": [
      "Palace Guard 6.7\n",
      "Longbowman 12.2\n",
      "Khan 4.3\n",
      "Junk 3.6\n",
      "Lodya Demolition Ship 1.7\n"
     ]
    }
   ],
   "source": [
    "for i in range(df.shape[0]):\n",
    "    if (abs(X.value.round(1)[i])):\n",
    "        print(df.iloc[i]['Names'],abs(X.value.round(1)[i]))"
   ]
  },
  {
   "cell_type": "code",
   "execution_count": 99,
   "id": "01fdbb57",
   "metadata": {},
   "outputs": [
    {
     "name": "stdout",
     "output_type": "stream",
     "text": [
      "Palace Guard 6.7\n",
      "Archer 3.3\n",
      "Longbowman 10.0\n",
      "Khan 4.2\n",
      "Junk 3.5\n",
      "Lodya Demolition Ship 1.6\n"
     ]
    }
   ],
   "source": [
    "# additionaly, we are trying to restrict the possibility that certain unit dominates the composition of the army.\n",
    "constraint_4 = [X<=10]\n",
    "prob = cp.Problem(obj,constraint_0+constraint_1+constraint_2+constraint_3+constraint_4)\n",
    "prob.solve()\n",
    "for i in range(df.shape[0]):\n",
    "    if (abs(X.value.round(1)[i])):\n",
    "        print(df.iloc[i]['Names'],abs(X.value.round(1)[i]))\n",
    "# we further subdivide the units into specific groups:\n",
    "# "
>>>>>>> Stashed changes
   ]
  },
  {
   "cell_type": "code",
   "execution_count": null,
<<<<<<< Updated upstream
   "id": "4e6916a1-355f-4216-bfcd-b5b009da88f5",
=======
   "id": "568fe3a5",
>>>>>>> Stashed changes
   "metadata": {},
   "outputs": [],
   "source": []
  }
 ],
 "metadata": {
  "kernelspec": {
   "display_name": "Python 3 (ipykernel)",
   "language": "python",
   "name": "python3"
  },
  "language_info": {
   "codemirror_mode": {
    "name": "ipython",
    "version": 3
   },
   "file_extension": ".py",
   "mimetype": "text/x-python",
   "name": "python",
   "nbconvert_exporter": "python",
   "pygments_lexer": "ipython3",
   "version": "3.12.8"
  }
 },
 "nbformat": 4,
 "nbformat_minor": 5
}

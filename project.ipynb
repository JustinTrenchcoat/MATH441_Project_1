{
 "cells": [
  {
   "cell_type": "code",
   "execution_count": 39,
   "id": "c5d3d62a-8ed8-458f-bfa0-c1e2ed740b9d",
   "metadata": {},
   "outputs": [
    {
     "name": "stdout",
     "output_type": "stream",
     "text": [
      "Requirement already satisfied: cvxpy in /opt/conda/lib/python3.12/site-packages (1.6.0)\n",
      "Requirement already satisfied: osqp>=0.6.2 in /opt/conda/lib/python3.12/site-packages (from cvxpy) (0.6.7.post3)\n",
      "Requirement already satisfied: clarabel>=0.5.0 in /opt/conda/lib/python3.12/site-packages (from cvxpy) (0.10.0)\n",
      "Requirement already satisfied: scs>=3.2.4.post1 in /opt/conda/lib/python3.12/site-packages (from cvxpy) (3.2.7.post2)\n",
      "Requirement already satisfied: numpy>=1.20 in /opt/conda/lib/python3.12/site-packages (from cvxpy) (1.26.4)\n",
      "Requirement already satisfied: scipy>=1.1.0 in /opt/conda/lib/python3.12/site-packages (from cvxpy) (1.14.1)\n",
      "Requirement already satisfied: qdldl in /opt/conda/lib/python3.12/site-packages (from osqp>=0.6.2->cvxpy) (0.1.7.post5)\n"
     ]
    }
   ],
   "source": [
    "!pip install cvxpy\n",
    "import pandas as pd\n",
    "import numpy as np\n",
    "import cvxpy as cp\n"
   ]
  },
  {
   "cell_type": "code",
   "execution_count": 40,
   "id": "cb0fbc25-89be-467a-b0b9-db9bf5fa8a78",
   "metadata": {},
   "outputs": [
    {
     "name": "stdout",
     "output_type": "stream",
     "text": [
      "[' ', 'Unnamed: 1', 'Unnamed: 2', 'Resource Cost', 'Unnamed: 4', 'Unnamed: 5', 'Unnamed: 6', 'Time', 'Pop', 'Move', 'HP', 'HP per\\nResource', 'Armor', 'Unnamed: 13', 'Attack', 'Unnamed: 15', 'Unnamed: 16', 'Unnamed: 17', 'Unnamed: 18', 'Unnamed: 19', 'Bonus', 'Note']\n"
     ]
    }
   ],
   "source": [
    "df = pd.read_csv(\"aoe4_data.csv\")\n",
    "print(list(df.columns))\n",
    "df = df.dropna()\n"
   ]
  },
  {
   "cell_type": "code",
   "execution_count": 41,
   "id": "990caf46-47db-415f-875a-1d40b9588acf",
   "metadata": {},
   "outputs": [],
   "source": [
    "\n",
    "df.rename(columns={\"Resource Cost\": \"Food\", \"Unnamed: 4\": \"Wood\",\"Unnamed: 5\": \"Gold\",}, inplace=True)\n",
    "df.rename(columns={\"Unnamed: 15\" :\"Spd\",\"Unnamed: 16\": \"DPS\",\"Unnamed: 17\": \"Rng\"},inplace =True)\n",
    "df.drop(columns=[\"Unnamed: 1\", \"Unnamed: 2\",\"Bonus\",\"Note\",\"Unnamed: 19\",\"Unnamed: 18\",\"Unnamed: 13\",\"Unnamed: 6\",\"Move\", \"DPS\", \"HP per\\nResource\"], inplace=True)\n",
    "df = df.iloc[:124]\n",
    "df = df.dropna(subset=['Food', 'Gold', 'Wood'])"
   ]
  },
  {
   "cell_type": "code",
   "execution_count": 42,
   "id": "386a6d5a-3185-43fd-a58e-25c35bfa9aed",
   "metadata": {},
   "outputs": [],
   "source": [
    "df.head()\n",
    "df = df.dropna()\n",
    "# 100 wood is 130 gold\n",
    "# 100 food is 130 gold"
   ]
  },
  {
   "cell_type": "code",
   "execution_count": 43,
   "id": "4e6916a1-355f-4216-bfcd-b5b009da88f5",
   "metadata": {},
   "outputs": [
    {
     "data": {
      "text/html": [
       "<div>\n",
       "<style scoped>\n",
       "    .dataframe tbody tr th:only-of-type {\n",
       "        vertical-align: middle;\n",
       "    }\n",
       "\n",
       "    .dataframe tbody tr th {\n",
       "        vertical-align: top;\n",
       "    }\n",
       "\n",
       "    .dataframe thead th {\n",
       "        text-align: right;\n",
       "    }\n",
       "</style>\n",
       "<table border=\"1\" class=\"dataframe\">\n",
       "  <thead>\n",
       "    <tr style=\"text-align: right;\">\n",
       "      <th></th>\n",
       "      <th></th>\n",
       "      <th>Gold</th>\n",
       "      <th>Time</th>\n",
       "      <th>Pop</th>\n",
       "      <th>HP</th>\n",
       "      <th>Armor</th>\n",
       "      <th>Attack</th>\n",
       "      <th>Spd</th>\n",
       "      <th>Rng</th>\n",
       "    </tr>\n",
       "  </thead>\n",
       "  <tbody>\n",
       "    <tr>\n",
       "      <th>2</th>\n",
       "      <td>Spearman</td>\n",
       "      <td>16000.0</td>\n",
       "      <td>15.0</td>\n",
       "      <td>1.0</td>\n",
       "      <td>70.0</td>\n",
       "      <td>0</td>\n",
       "      <td>6</td>\n",
       "      <td>1.75</td>\n",
       "      <td>0.29</td>\n",
       "    </tr>\n",
       "    <tr>\n",
       "      <th>19</th>\n",
       "      <td>Longbowman</td>\n",
       "      <td>18000.0</td>\n",
       "      <td>15.0</td>\n",
       "      <td>1.0</td>\n",
       "      <td>70.0</td>\n",
       "      <td>0</td>\n",
       "      <td>6</td>\n",
       "      <td>1.5</td>\n",
       "      <td>7.00</td>\n",
       "    </tr>\n",
       "    <tr>\n",
       "      <th>29</th>\n",
       "      <td>Arbalétrier</td>\n",
       "      <td>16040.0</td>\n",
       "      <td>22.0</td>\n",
       "      <td>1.0</td>\n",
       "      <td>80.0</td>\n",
       "      <td>1</td>\n",
       "      <td>12</td>\n",
       "      <td>2</td>\n",
       "      <td>5.00</td>\n",
       "    </tr>\n",
       "    <tr>\n",
       "      <th>34</th>\n",
       "      <td>Scout</td>\n",
       "      <td>14000.0</td>\n",
       "      <td>20.0</td>\n",
       "      <td>1.0</td>\n",
       "      <td>110.0</td>\n",
       "      <td>0</td>\n",
       "      <td>2</td>\n",
       "      <td>2</td>\n",
       "      <td>0.29</td>\n",
       "    </tr>\n",
       "    <tr>\n",
       "      <th>40</th>\n",
       "      <td>Camel Rider</td>\n",
       "      <td>36060.0</td>\n",
       "      <td>35.0</td>\n",
       "      <td>1.0</td>\n",
       "      <td>270.0</td>\n",
       "      <td>0</td>\n",
       "      <td>14</td>\n",
       "      <td>1</td>\n",
       "      <td>0.42</td>\n",
       "    </tr>\n",
       "  </tbody>\n",
       "</table>\n",
       "</div>"
      ],
      "text/plain": [
       "                    Gold  Time  Pop     HP Armor Attack   Spd   Rng\n",
       "2      Spearman  16000.0  15.0  1.0   70.0     0      6  1.75  0.29\n",
       "19   Longbowman  18000.0  15.0  1.0   70.0     0      6   1.5  7.00\n",
       "29  Arbalétrier  16040.0  22.0  1.0   80.0     1     12     2  5.00\n",
       "34        Scout  14000.0  20.0  1.0  110.0     0      2     2  0.29\n",
       "40  Camel Rider  36060.0  35.0  1.0  270.0     0     14     1  0.42"
      ]
     },
     "execution_count": 43,
     "metadata": {},
     "output_type": "execute_result"
    }
   ],
   "source": [
    "df.Food *= 200\n",
    "df.Wood *= 200\n",
    "df.Gold = df.Food + df.Wood + df.Gold\n",
    "df.drop(columns=[\"Food\", \"Wood\"], inplace=True)\n",
    "df.head()"
   ]
  },
  {
   "cell_type": "code",
   "execution_count": 44,
   "id": "a2b31534",
   "metadata": {},
   "outputs": [
    {
     "name": "stdout",
     "output_type": "stream",
     "text": [
      "25\n"
     ]
    }
   ],
   "source": [
    "# Time, HP, Pop, Armor, Attack, Speed and Range would be our constraints\n",
    "df\n",
    "print(len(df.index))\n"
   ]
  },
  {
   "cell_type": "code",
   "execution_count": 45,
   "id": "28bed8b6",
   "metadata": {},
   "outputs": [],
   "source": [
    "c = np.array(df['Gold'])\n",
    "A = np.array(df[['Time','HP','Armor','Attack', \"Spd\", \"Rng\"]]).T\n",
    "P = np.array(df[\"Pop\"]).T\n",
    "df[\"Armor\"] = df[\"Armor\"].astype(float)\n",
    "df[\"Attack\"] = df[\"Attack\"].astype(float)\n",
    "df[\"Spd\"] = df[\"Spd\"].astype(float)\n",
    "df[\"Rng\"] = df[\"Rng\"].astype(float)\n",
    "b = np.array([1026,5000,20,1000,100,130]) # These are our requirements"
   ]
  },
  {
   "cell_type": "code",
   "execution_count": 73,
   "id": "89e02936",
   "metadata": {},
   "outputs": [
    {
     "data": {
      "text/plain": [
       "845791.9343687746"
      ]
     },
     "execution_count": 73,
     "metadata": {},
     "output_type": "execute_result"
    }
   ],
   "source": [
    "X = cp.Variable(df.shape[0])\n",
    "\n",
    "constraints = [\n",
    "    A @ X >= b, \n",
    "    X >= 0,  \n",
    "    P @ X <= 200  \n",
    "]\n",
    "\n",
    "for i in range(df.shape[0]):\n",
    "    constraints.append(X[i] <= 0.35 * cp.sum(X))  #No single unit type can exceed 50% of the total population\n",
    "\n",
    "elite_units = cp.Variable(df.shape[0], boolean=True)\n",
    "constraints.append(cp.sum(elite_units) >= 0.1 * cp.sum(X))\n",
    "for i in range(df.shape[0]):\n",
    "    constraints.append(elite_units[i] * 600 <= c[i])  # Only count units costing >600 as elite\n",
    "\n",
    "obj = cp.Minimize(c @ X)\n",
    "prob = cp.Problem(obj, constraints)\n",
    "prob.solve()\n"
   ]
  },
  {
   "cell_type": "code",
   "execution_count": 74,
   "id": "ee297f73-8855-43da-bdd7-ae2c606a1106",
   "metadata": {},
   "outputs": [
    {
     "name": "stdout",
     "output_type": "stream",
     "text": [
      "Longbowman 3.9\n",
      "Arbalétrier 14.4\n",
      "Scout 14.4\n",
      "War Elephant 1.4\n",
      "Dhow 6.4\n",
      "Explosive Dhow 0.4\n",
      "Lodya Demolition Ship 0.2\n"
     ]
    }
   ],
   "source": [
    "for i in range(df.shape[0]):\n",
    "    unit_name = df.iloc[i, 0] \n",
    "    if X.value[i] > 0:\n",
    "        print(df.iloc[i][' '],abs(X.value.round(1)[i]))"
   ]
  },
  {
   "cell_type": "code",
   "execution_count": null,
   "id": "01fdbb57",
   "metadata": {},
   "outputs": [],
   "source": []
  },
  {
   "cell_type": "code",
   "execution_count": null,
   "id": "0adbbc35-e1cc-465e-b485-b953299b73fb",
   "metadata": {},
   "outputs": [],
   "source": []
  },
  {
   "cell_type": "code",
   "execution_count": null,
   "id": "3b48ac4c-f3eb-4313-8f1c-eb25f5a8f6f4",
   "metadata": {},
   "outputs": [],
   "source": []
  }
 ],
 "metadata": {
  "kernelspec": {
   "display_name": "Python 3 (ipykernel)",
   "language": "python",
   "name": "python3"
  },
  "language_info": {
   "codemirror_mode": {
    "name": "ipython",
    "version": 3
   },
   "file_extension": ".py",
   "mimetype": "text/x-python",
   "name": "python",
   "nbconvert_exporter": "python",
   "pygments_lexer": "ipython3",
   "version": "3.12.8"
  }
 },
 "nbformat": 4,
 "nbformat_minor": 5
}

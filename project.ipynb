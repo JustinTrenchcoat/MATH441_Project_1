{
 "cells": [
  {
   "cell_type": "code",
   "execution_count": 1,
   "id": "c5d3d62a-8ed8-458f-bfa0-c1e2ed740b9d",
   "metadata": {},
   "outputs": [],
   "source": [
    "import pandas as pd\n",
    "import numpy as np\n",
    "import cvxpy as cp\n"
   ]
  },
  {
   "cell_type": "code",
   "execution_count": 25,
   "id": "cb0fbc25-89be-467a-b0b9-db9bf5fa8a78",
   "metadata": {},
   "outputs": [
    {
     "name": "stdout",
     "output_type": "stream",
     "text": [
      "[' ', 'Unnamed: 1', 'Unnamed: 2', 'Resource Cost', 'Unnamed: 4', 'Unnamed: 5', 'Unnamed: 6', 'Time', 'Pop', 'Move', 'HP', 'HP per\\nResource', 'Armor', 'Unnamed: 13', 'Attack', 'Unnamed: 15', 'Unnamed: 16', 'Unnamed: 17', 'Unnamed: 18', 'Unnamed: 19', 'Bonus', 'Note']\n"
     ]
    }
   ],
   "source": [
    "df = pd.read_csv(\"aoe4_data.csv\")\n",
    "print(list(df.columns))\n",
    "df = df.dropna()\n"
   ]
  },
  {
   "cell_type": "code",
   "execution_count": 9,
   "id": "990caf46-47db-415f-875a-1d40b9588acf",
   "metadata": {},
   "outputs": [],
   "source": [
    "\n",
    "df.rename(columns={\"Resource Cost\": \"Food\", \"Unnamed: 4\": \"Wood\",\"Unnamed: 5\": \"Gold\",}, inplace=True)\n",
    "df.rename(columns={\"Unnamed: 15\" :\"Spd\",\"Unnamed: 16\": \"DPS\",\"Unnamed: 17\": \"Rng\"},inplace =True)\n",
    "df.drop(columns=[\"Unnamed: 1\", \"Unnamed: 2\",\"Bonus\",\"Note\",\"Unnamed: 19\",\"Unnamed: 18\",\"Unnamed: 13\",\"Unnamed: 6\",\"Move\", \"DPS\", \"HP per\\nResource\"], inplace=True)\n",
    "df = df.iloc[:124]\n",
    "df = df.dropna(subset=['Food', 'Gold', 'Wood'])"
   ]
  },
  {
   "cell_type": "code",
   "execution_count": null,
   "id": "386a6d5a-3185-43fd-a58e-25c35bfa9aed",
   "metadata": {},
   "outputs": [],
   "source": [
    "df.head()\n",
    "df = df.dropna()\n",
    "# 100 wood is 130 gold\n",
    "# 100 food is 130 gold"
   ]
  },
  {
   "cell_type": "code",
   "execution_count": 11,
   "id": "4e6916a1-355f-4216-bfcd-b5b009da88f5",
   "metadata": {},
   "outputs": [
    {
     "data": {
      "text/html": [
       "<div>\n",
       "<style scoped>\n",
       "    .dataframe tbody tr th:only-of-type {\n",
       "        vertical-align: middle;\n",
       "    }\n",
       "\n",
       "    .dataframe tbody tr th {\n",
       "        vertical-align: top;\n",
       "    }\n",
       "\n",
       "    .dataframe thead th {\n",
       "        text-align: right;\n",
       "    }\n",
       "</style>\n",
       "<table border=\"1\" class=\"dataframe\">\n",
       "  <thead>\n",
       "    <tr style=\"text-align: right;\">\n",
       "      <th></th>\n",
       "      <th></th>\n",
       "      <th>Gold</th>\n",
       "      <th>Time</th>\n",
       "      <th>Pop</th>\n",
       "      <th>HP</th>\n",
       "      <th>Armor</th>\n",
       "      <th>Attack</th>\n",
       "      <th>Spd</th>\n",
       "      <th>Rng</th>\n",
       "    </tr>\n",
       "  </thead>\n",
       "  <tbody>\n",
       "    <tr>\n",
       "      <th>2</th>\n",
       "      <td>Spearman</td>\n",
       "      <td>104.0</td>\n",
       "      <td>15.0</td>\n",
       "      <td>1.0</td>\n",
       "      <td>70.0</td>\n",
       "      <td>0</td>\n",
       "      <td>6</td>\n",
       "      <td>1.75</td>\n",
       "      <td>0.29</td>\n",
       "    </tr>\n",
       "    <tr>\n",
       "      <th>19</th>\n",
       "      <td>Longbowman</td>\n",
       "      <td>117.0</td>\n",
       "      <td>15.0</td>\n",
       "      <td>1.0</td>\n",
       "      <td>70.0</td>\n",
       "      <td>0</td>\n",
       "      <td>6</td>\n",
       "      <td>1.5</td>\n",
       "      <td>7.00</td>\n",
       "    </tr>\n",
       "    <tr>\n",
       "      <th>29</th>\n",
       "      <td>Arbalétrier</td>\n",
       "      <td>144.0</td>\n",
       "      <td>22.0</td>\n",
       "      <td>1.0</td>\n",
       "      <td>80.0</td>\n",
       "      <td>1</td>\n",
       "      <td>12</td>\n",
       "      <td>2</td>\n",
       "      <td>5.00</td>\n",
       "    </tr>\n",
       "    <tr>\n",
       "      <th>34</th>\n",
       "      <td>Scout</td>\n",
       "      <td>91.0</td>\n",
       "      <td>20.0</td>\n",
       "      <td>1.0</td>\n",
       "      <td>110.0</td>\n",
       "      <td>0</td>\n",
       "      <td>2</td>\n",
       "      <td>2</td>\n",
       "      <td>0.29</td>\n",
       "    </tr>\n",
       "    <tr>\n",
       "      <th>40</th>\n",
       "      <td>Camel Rider</td>\n",
       "      <td>294.0</td>\n",
       "      <td>35.0</td>\n",
       "      <td>1.0</td>\n",
       "      <td>270.0</td>\n",
       "      <td>0</td>\n",
       "      <td>14</td>\n",
       "      <td>1</td>\n",
       "      <td>0.42</td>\n",
       "    </tr>\n",
       "  </tbody>\n",
       "</table>\n",
       "</div>"
      ],
      "text/plain": [
       "                  Gold  Time  Pop     HP Armor Attack   Spd   Rng\n",
       "2      Spearman  104.0  15.0  1.0   70.0     0      6  1.75  0.29\n",
       "19   Longbowman  117.0  15.0  1.0   70.0     0      6   1.5  7.00\n",
       "29  Arbalétrier  144.0  22.0  1.0   80.0     1     12     2  5.00\n",
       "34        Scout   91.0  20.0  1.0  110.0     0      2     2  0.29\n",
       "40  Camel Rider  294.0  35.0  1.0  270.0     0     14     1  0.42"
      ]
     },
     "execution_count": 11,
     "metadata": {},
     "output_type": "execute_result"
    }
   ],
   "source": [
    "df.Food *= 1.3\n",
    "df.Wood *= 1.3\n",
    "df.Gold = df.Food + df.Wood + df.Gold\n",
    "df.drop(columns=[\"Food\", \"Wood\"], inplace=True)\n",
    "df.head()"
   ]
  },
  {
   "cell_type": "code",
   "execution_count": 12,
   "id": "a2b31534",
   "metadata": {},
   "outputs": [
    {
     "name": "stdout",
     "output_type": "stream",
     "text": [
      "25\n"
     ]
    }
   ],
   "source": [
    "# Time, HP, Pop, Armor, Attack, Speed and Range would be our constraints\n",
    "df\n",
    "print(len(df.index))\n"
   ]
  },
  {
   "cell_type": "code",
   "execution_count": 13,
   "id": "28bed8b6",
   "metadata": {},
   "outputs": [],
   "source": [
    "c = np.array(df['Gold'])\n",
    "A = np.array(df[['Time','HP','Armor','Attack', \"Spd\", \"Rng\", \"Pop\"]]).T\n",
    "df[\"Armor\"] = df[\"Armor\"].astype(float)\n",
    "df[\"Attack\"] = df[\"Attack\"].astype(float)\n",
    "df[\"Spd\"] = df[\"Spd\"].astype(float)\n",
    "df[\"Rng\"] = df[\"Rng\"].astype(float)\n",
    "b = np.array([1026,5000,20,1000,100,130,200]) # These are our requirements"
   ]
  },
  {
   "cell_type": "code",
   "execution_count": 14,
   "id": "89e02936",
   "metadata": {},
   "outputs": [
    {
     "data": {
      "text/plain": [
       "np.float64(13949.999992312105)"
      ]
     },
     "execution_count": 14,
     "metadata": {},
     "output_type": "execute_result"
    }
   ],
   "source": [
    "X = cp.Variable(df.shape[0])\n",
    "obj = cp.Minimize(c @ X)\n",
    "constraint_0 = [A@X>=b]\n",
    "constraint_1 = [X>=0]\n",
    "prob = cp.Problem(obj,constraint_0+constraint_1)\n",
    "prob.solve()"
   ]
  },
  {
   "cell_type": "code",
   "execution_count": 26,
   "id": "da76a8e7",
   "metadata": {},
   "outputs": [
    {
     "name": "stdout",
     "output_type": "stream",
     "text": [
      "Spearman 0.0\n",
      "Longbowman 0.0\n",
      "Arbalétrier 20.0\n",
      "Scout 0.0\n",
      "Camel Rider 0.0\n",
      "Fire Lancer 0.0\n",
      "War Elephant 0.0\n",
      "Camel Archer 0.0\n",
      "Springald 0.0\n",
      "Mangonel 0.0\n",
      "Bombard 0.0\n",
      "Cannon 0.0\n",
      "Culverin 0.0\n",
      "Galley 0.0\n",
      "Junk 45.0\n",
      "Light Junk 0.0\n",
      "Dhow 0.0\n",
      "Lodya Attack Ship 0.0\n",
      "Demolition Ship 0.0\n",
      "Explosive Junk 0.0\n",
      "Explosive Dhow 0.0\n",
      "Lodya Demolition Ship 0.0\n",
      "Carrack 0.0\n",
      "Baochuan 0.0\n",
      "Xebec 0.0\n"
     ]
    }
   ],
   "source": [
    "for i in range(df.shape[0]):\n",
    "    print(df.iloc[i][' '],abs(X.value.round(3)[i]))"
   ]
  },
  {
   "cell_type": "code",
   "execution_count": null,
   "id": "01fdbb57",
   "metadata": {},
   "outputs": [],
   "source": []
  }
 ],
 "metadata": {
  "kernelspec": {
   "display_name": "base",
   "language": "python",
   "name": "python3"
  },
  "language_info": {
   "codemirror_mode": {
    "name": "ipython",
    "version": 3
   },
   "file_extension": ".py",
   "mimetype": "text/x-python",
   "name": "python",
   "nbconvert_exporter": "python",
   "pygments_lexer": "ipython3",
   "version": "3.12.8"
  }
 },
 "nbformat": 4,
 "nbformat_minor": 5
}
